{
 "cells": [
  {
   "cell_type": "markdown",
   "id": "37ef7736",
   "metadata": {},
   "source": [
    ">**Algoritmos para Big Data**\n",
    "\n",
    ">**2023/24**"
   ]
  },
  {
   "cell_type": "markdown",
   "id": "61efefaf",
   "metadata": {
    "heading_collapsed": true,
    "tags": []
   },
   "source": [
    "# Exploratory Data Analysis (EDA)\n",
    "In this lecture, we will carry out some common data analysis to extract insights from data stored in a DataFrame. The main goal is to consolidate knownledge from previous lectures about useful Spark's transformations and actions functions."
   ]
  },
  {
   "cell_type": "markdown",
   "id": "3bc8ee65",
   "metadata": {
    "heading_collapsed": true
   },
   "source": [
    "# Problem formulation\n",
    "\n",
    "This exercise is about EDA related to **Fire Department calls for service** in San Francisco, USA. \n",
    "\n",
    "We ask you write down a Spark program that:\n",
    "\n",
    "a) Reads a file containing the dataset under analysis.\n",
    "\n",
    "b) Provides answers to the following questions about the data.\n",
    "\n",
    "1. How many distinct types of calls were made to the Fire Department?\n",
    "2. What are distinct types of calls that were made to the Fire Department?\n",
    "3. Find out all responses or delayed times that were greater than 5 minutes?\n",
    "4. What were the most common call types, listed in descending order by count?\n",
    "5. What zip codes accounted for most common calls and what type were they?\n",
    "6. What neighbourhoods are in the two top zip codes from the listing in the previous question?\n",
    "\n",
    "**Dataset**\n",
    "\n",
    "The dataset of concern, and related information, can be downloaded using the command\n",
    "\n",
    ">wget bigdata.iscte.me/abd/fire-department-calls.zip\n"
   ]
  },
  {
   "cell_type": "markdown",
   "id": "019fda0e",
   "metadata": {
    "heading_collapsed": true
   },
   "source": [
    "# Initial settings\n",
    "\n",
    "Prior to any computation, let us set required imports and create a Spark session, \n",
    "as well as defining useful functions."
   ]
  },
  {
   "cell_type": "code",
   "execution_count": 1,
   "id": "5d09dab8",
   "metadata": {
    "hidden": true
   },
   "outputs": [],
   "source": [
    "import findspark, pyspark\n",
    "\n",
    "from pyspark.sql import SparkSession\n",
    "from pyspark.sql.types import *\n",
    "import pyspark.sql.functions as F"
   ]
  },
  {
   "cell_type": "code",
   "execution_count": 2,
   "id": "a9e7c63a-5a03-4609-8969-c6fae2afdb16",
   "metadata": {},
   "outputs": [],
   "source": [
    "import seaborn as sns\n",
    "import warnings\n",
    "warnings.filterwarnings(\"ignore\")"
   ]
  },
  {
   "cell_type": "code",
   "execution_count": 3,
   "id": "4ea8d3ff-5767-4d41-97f2-980db5a38a1d",
   "metadata": {
    "ExecuteTime": {
     "end_time": "2021-02-18T21:47:38.290954Z",
     "start_time": "2021-02-18T21:47:38.286790Z"
    },
    "hidden": true,
    "tags": []
   },
   "outputs": [
    {
     "name": "stderr",
     "output_type": "stream",
     "text": [
      "Setting default log level to \"WARN\".\n",
      "To adjust logging level use sc.setLogLevel(newLevel). For SparkR, use setLogLevel(newLevel).\n",
      "24/03/05 14:29:30 WARN NativeCodeLoader: Unable to load native-hadoop library for your platform... using builtin-java classes where applicable\n"
     ]
    }
   ],
   "source": [
    "# Create our Spark session\n",
    "\n",
    "findspark.init()\n",
    "findspark.find()\n",
    "\n",
    "spark = SparkSession\\\n",
    "        .builder\\\n",
    "        .appName(\"FireDepartmentCalls\")\\\n",
    "        .config(\"spark.sql.shuffle.partitions\",6)\\\n",
    "        .config(\"spark.sql.repl.eagereval.enabled\",True)\\\n",
    "        .getOrCreate()\n"
   ]
  },
  {
   "cell_type": "code",
   "execution_count": 4,
   "id": "7009e262-a3b1-4583-8d62-c12c8f058061",
   "metadata": {},
   "outputs": [
    {
     "data": {
      "text/html": [
       "<style>pre { white-space: pre !important; }</style>"
      ],
      "text/plain": [
       "<IPython.core.display.HTML object>"
      ]
     },
     "metadata": {},
     "output_type": "display_data"
    }
   ],
   "source": [
    "from IPython.core.display import HTML\n",
    "display(HTML(\"<style>pre { white-space: pre !important; }</style>\"))"
   ]
  },
  {
   "cell_type": "markdown",
   "id": "b35b0f43",
   "metadata": {
    "hidden": true
   },
   "source": [
    "## Useful visualization function\n",
    "\n",
    "Function relying on Seaborn to plot data but as Python data frame.\n",
    "\n",
    "See https://seaborn.pydata.org/index.html\n",
    "\n",
    "We encourage you to use your own plotting functions. Remember: *\"A picture is worth a thousand words\"*"
   ]
  },
  {
   "cell_type": "code",
   "execution_count": 5,
   "id": "fba790e4-1e45-4c14-b105-cf3fac7beabd",
   "metadata": {},
   "outputs": [],
   "source": [
    "def plotHorizBar(df, xcol, ycol, colour):\n",
    "    sns.barplot(data=df, x=xcol, y=ycol, color=colour)"
   ]
  },
  {
   "cell_type": "markdown",
   "id": "53479f6a",
   "metadata": {
    "heading_collapsed": true
   },
   "source": [
    "# Data ingestion\n",
    "Checking source of data and then reading it."
   ]
  },
  {
   "cell_type": "code",
   "execution_count": null,
   "id": "ae76fbf1-4aeb-4397-90e7-dffc24e2ad9b",
   "metadata": {},
   "outputs": [],
   "source": [
    "pwd"
   ]
  },
  {
   "cell_type": "code",
   "execution_count": null,
   "id": "c5245a33-987d-4298-a326-3e2f63fcc758",
   "metadata": {},
   "outputs": [],
   "source": [
    "ls -la"
   ]
  },
  {
   "cell_type": "code",
   "execution_count": null,
   "id": "b8be7ba0",
   "metadata": {
    "hidden": true
   },
   "outputs": [],
   "source": [
    "ls -la ../Datasets/fire-department-calls"
   ]
  },
  {
   "cell_type": "code",
   "execution_count": 9,
   "id": "3e809719-5fcd-4588-ad1a-2709012288f2",
   "metadata": {},
   "outputs": [
    {
     "name": "stdout",
     "output_type": "stream",
     "text": [
      "﻿Call Number;Unit ID;Incident Number;Call Type;Call Date;Watch Date;Received DtTm;Entry DtTm;Dispatch DtTm;Response DtTm;On Scene DtTm;Transport DtTm;Hospital DtTm;Call Final Disposition;Available DtTm;Address;City;Zipcode of Incident;Battalion;Station Area;Box;Original Priority;Priority;Final Priority;ALS Unit;Call Type Group;Number of Alarms;Unit Type;Unit sequence in call dispatch;Fire Prevention District;Supervisor District;Neighborhooods - Analysis Boundaries;RowID;case_location;Analysis Neighborhoods\n",
      "221210313;E36;22054955;Outside Fire;05/01/2022;04/30/2022;05/01/2022 02:58:25 AM;05/01/2022 02:59:15 AM;05/01/2022 02:59:25 AM;05/01/2022 03:01:06 AM;05/01/2022 03:02:27 AM;;;Fire;05/01/2022 03:05:00 AM;GOUGH ST/GROVE ST;San Francisco;94102;B02;36;3265;3;3;3;true;Fire;1;ENGINE;1;2;5;Hayes Valley;221210313-E36;POINT (-122.42316555403964 37.77781524520032);9\n"
     ]
    }
   ],
   "source": [
    "! head -n 2 \"../Datasets/fire-department-calls/Fire_Department_Calls_for_Service_Excel_EU.csv\""
   ]
  },
  {
   "cell_type": "code",
   "execution_count": 10,
   "id": "3e43d822",
   "metadata": {
    "hidden": true
   },
   "outputs": [],
   "source": [
    "# As the file is quite big, (recall that inferring the schema is expensive for large files) \n",
    "# and we know it, so let us use it (How do we know it?)\n",
    "\n",
    "fire_schema = StructType([StructField('Call Number', IntegerType(), True),\n",
    "                     StructField('Unit ID', StringType(), True),\n",
    "                     StructField('Incident Number', IntegerType(), True),\n",
    "                     StructField('Call Type', StringType(), True),                  \n",
    "                     StructField('Call Date', StringType(), True),      \n",
    "                     StructField('Watch Date', StringType(), True),                \n",
    "                     StructField('Received DtTm', StringType(), True),\n",
    "                     StructField('Entry DtTm', StringType(), True),\n",
    "                     StructField('Dispatch DtTm', StringType(), True),\n",
    "                     StructField('Response DtTm', StringType(), True),\n",
    "                     StructField('On Scene DtTm', StringType(), True),\n",
    "                     StructField('Transport DtTm', StringType(), True),\n",
    "                     StructField('Hospital DtTm', StringType(), True),\n",
    "                     StructField('Call Final Disposition', StringType(), True),\n",
    "                     StructField('Available DtTm', StringType(), True),\n",
    "                     StructField('Address', StringType(), True),       \n",
    "                     StructField('City', StringType(), True),       \n",
    "                     StructField('Zipcode of Incident', IntegerType(), True),       \n",
    "                     StructField('Battalion', StringType(), True),                 \n",
    "                     StructField('Station Area', StringType(), True),       \n",
    "                     StructField('Box', StringType(), True),       \n",
    "                     StructField('Original Priority', StringType(), True),       \n",
    "                     StructField('Priority', StringType(), True),       \n",
    "                     StructField('Final Priority', IntegerType(), True),       \n",
    "                     StructField('ALS Unit', BooleanType(), True),\n",
    "                     StructField('Call Type Group', StringType(), True),\n",
    "                     StructField('Number of Alarms', IntegerType(), True),\n",
    "                     StructField('Unit Type', StringType(), True),\n",
    "                     StructField('Unit sequence in call dispatch', IntegerType(), True),\n",
    "                     StructField('Fire Prevention District', StringType(), True),\n",
    "                     StructField('Supervisor District', StringType(), True),\n",
    "                     StructField('Neighborhooods - Analysis Boundaries', StringType(), True),\n",
    "                     StructField('RowID', StringType(), True),\n",
    "                     StructField('case_location', StringType(), True),\n",
    "                     StructField('Analysis Neighborhoods', IntegerType(), True)])\n",
    "                          "
   ]
  },
  {
   "cell_type": "code",
   "execution_count": 11,
   "id": "3a049fb1",
   "metadata": {
    "hidden": true
   },
   "outputs": [
    {
     "name": "stderr",
     "output_type": "stream",
     "text": [
      "                                                                                \r"
     ]
    }
   ],
   "source": [
    "# Reading the dataset\n",
    "\n",
    "filename = \n",
    "\n",
    "fire_df = spark.read.csv(filename"
   ]
  },
  {
   "cell_type": "markdown",
   "id": "a3bb29dd",
   "metadata": {
    "hidden": true
   },
   "source": [
    "## Checking data\n",
    "Schema, show, count, and statistical information."
   ]
  },
  {
   "cell_type": "code",
   "execution_count": 12,
   "id": "b71d9b2e",
   "metadata": {
    "hidden": true
   },
   "outputs": [
    {
     "name": "stdout",
     "output_type": "stream",
     "text": [
      "root\n",
      " |-- Call Number: integer (nullable = true)\n",
      " |-- Unit ID: string (nullable = true)\n",
      " |-- Incident Number: integer (nullable = true)\n",
      " |-- Call Type: string (nullable = true)\n",
      " |-- Call Date: string (nullable = true)\n",
      " |-- Watch Date: string (nullable = true)\n",
      " |-- Received DtTm: string (nullable = true)\n",
      " |-- Entry DtTm: string (nullable = true)\n",
      " |-- Dispatch DtTm: string (nullable = true)\n",
      " |-- Response DtTm: string (nullable = true)\n",
      " |-- On Scene DtTm: string (nullable = true)\n",
      " |-- Transport DtTm: string (nullable = true)\n",
      " |-- Hospital DtTm: string (nullable = true)\n",
      " |-- Call Final Disposition: string (nullable = true)\n",
      " |-- Available DtTm: string (nullable = true)\n",
      " |-- Address: string (nullable = true)\n",
      " |-- City: string (nullable = true)\n",
      " |-- Zipcode of Incident: integer (nullable = true)\n",
      " |-- Battalion: string (nullable = true)\n",
      " |-- Station Area: string (nullable = true)\n",
      " |-- Box: string (nullable = true)\n",
      " |-- Original Priority: string (nullable = true)\n",
      " |-- Priority: string (nullable = true)\n",
      " |-- Final Priority: integer (nullable = true)\n",
      " |-- ALS Unit: boolean (nullable = true)\n",
      " |-- Call Type Group: string (nullable = true)\n",
      " |-- Number of Alarms: integer (nullable = true)\n",
      " |-- Unit Type: string (nullable = true)\n",
      " |-- Unit sequence in call dispatch: integer (nullable = true)\n",
      " |-- Fire Prevention District: string (nullable = true)\n",
      " |-- Supervisor District: string (nullable = true)\n",
      " |-- Neighborhooods - Analysis Boundaries: string (nullable = true)\n",
      " |-- RowID: string (nullable = true)\n",
      " |-- case_location: string (nullable = true)\n",
      " |-- Analysis Neighborhoods: integer (nullable = true)\n",
      "\n"
     ]
    }
   ],
   "source": [
    "# Schema\n",
    "\n",
    "fire_df."
   ]
  },
  {
   "cell_type": "code",
   "execution_count": 13,
   "id": "bf57437b",
   "metadata": {
    "hidden": true
   },
   "outputs": [
    {
     "name": "stderr",
     "output_type": "stream",
     "text": [
      "24/03/05 14:29:40 WARN SparkStringUtils: Truncated the string representation of a plan since it was too large. This behavior can be adjusted by setting 'spark.sql.debug.maxToStringFields'.\n"
     ]
    },
    {
     "name": "stdout",
     "output_type": "stream",
     "text": [
      "+-----------+-------+---------------+------------+----------+----------+--------------------+--------------------+--------------------+--------------------+--------------------+--------------+-------------+----------------------+--------------------+--------------------+-------------+-------------------+---------+------------+----+-----------------+--------+--------------+--------+---------------+----------------+---------+------------------------------+------------------------+-------------------+------------------------------------+-------------+--------------------+----------------------+\n",
      "|Call Number|Unit ID|Incident Number|   Call Type| Call Date|Watch Date|       Received DtTm|          Entry DtTm|       Dispatch DtTm|       Response DtTm|       On Scene DtTm|Transport DtTm|Hospital DtTm|Call Final Disposition|      Available DtTm|             Address|         City|Zipcode of Incident|Battalion|Station Area| Box|Original Priority|Priority|Final Priority|ALS Unit|Call Type Group|Number of Alarms|Unit Type|Unit sequence in call dispatch|Fire Prevention District|Supervisor District|Neighborhooods - Analysis Boundaries|        RowID|       case_location|Analysis Neighborhoods|\n",
      "+-----------+-------+---------------+------------+----------+----------+--------------------+--------------------+--------------------+--------------------+--------------------+--------------+-------------+----------------------+--------------------+--------------------+-------------+-------------------+---------+------------+----+-----------------+--------+--------------+--------+---------------+----------------+---------+------------------------------+------------------------+-------------------+------------------------------------+-------------+--------------------+----------------------+\n",
      "|  221210313|    E36|       22054955|Outside Fire|05/01/2022|04/30/2022|05/01/2022 02:58:...|05/01/2022 02:59:...|05/01/2022 02:59:...|05/01/2022 03:01:...|05/01/2022 03:02:...|          NULL|         NULL|                  Fire|05/01/2022 03:05:...|   GOUGH ST/GROVE ST|San Francisco|              94102|      B02|          36|3265|                3|       3|             3|    true|           Fire|               1|   ENGINE|                             1|                       2|                  5|                        Hayes Valley|221210313-E36|POINT (-122.42316...|                     9|\n",
      "|  220190150|    E29|       22008871|      Alarms|01/19/2022|01/18/2022|01/19/2022 01:42:...|01/19/2022 01:44:...|01/19/2022 01:44:...|01/19/2022 01:46:...|01/19/2022 01:49:...|          NULL|         NULL|                  Fire|01/19/2022 02:35:...|100 Block of MISS...|San Francisco|              94107|      B03|          29|2431|                3|       3|             3|    true|          Alarm|               1|   ENGINE|                             1|                       3|                 10|                        Potrero Hill|220190150-E29|POINT (-122.39469...|                    26|\n",
      "|  211233271|    T07|       21053032|      Alarms|05/03/2021|05/03/2021|05/03/2021 09:28:...|05/03/2021 09:28:...|05/03/2021 09:28:...|05/03/2021 09:29:...|05/03/2021 09:32:...|          NULL|         NULL|                  Fire|05/03/2021 09:38:...|  0 Block of HOFF ST|San Francisco|              94110|      B02|          07|5236|                A|       3|             3|   false|          Alarm|               1|    TRUCK|                             2|                       2|                  9|                             Mission|211233271-T07|POINT (-122.42057...|                    20|\n",
      "|  212933533|    B02|       21127914|      Alarms|10/20/2021|10/20/2021|10/20/2021 10:08:...|10/20/2021 10:09:...|10/20/2021 10:10:...|10/20/2021 10:11:...|                NULL|          NULL|         NULL|                  Fire|10/20/2021 10:25:...|200 Block of JONE...|San Francisco|              94102|      B03|          03|1456|                3|       3|             3|   false|          Alarm|               1|    CHIEF|                             3|                       3|                  6|                          Tenderloin|212933533-B02|POINT (-122.41243...|                    36|\n",
      "|  221202543|    E41|       22054815|      Alarms|04/30/2022|04/30/2022|04/30/2022 06:35:...|04/30/2022 06:37:...|04/30/2022 06:37:...|04/30/2022 06:38:...|                NULL|          NULL|         NULL|                  Fire|04/30/2022 06:40:...|1400 Block of FIL...|San Francisco|              94109|      B04|          16|3146|                3|       3|             3|   false|          Alarm|               1|   ENGINE|                             4|                       4|                  2|                        Russian Hill|221202543-E41|POINT (-122.42333...|                    32|\n",
      "+-----------+-------+---------------+------------+----------+----------+--------------------+--------------------+--------------------+--------------------+--------------------+--------------+-------------+----------------------+--------------------+--------------------+-------------+-------------------+---------+------------+----+-----------------+--------+--------------+--------+---------------+----------------+---------+------------------------------+------------------------+-------------------+------------------------------------+-------------+--------------------+----------------------+\n",
      "only showing top 5 rows\n",
      "\n"
     ]
    }
   ],
   "source": [
    "# Show\n",
    "\n",
    "fire_df."
   ]
  },
  {
   "cell_type": "code",
   "execution_count": 14,
   "id": "744329e8",
   "metadata": {
    "hidden": true
   },
   "outputs": [
    {
     "name": "stderr",
     "output_type": "stream",
     "text": [
      "                                                                                \r"
     ]
    },
    {
     "data": {
      "text/plain": [
       "6106908"
      ]
     },
     "execution_count": 14,
     "metadata": {},
     "output_type": "execute_result"
    }
   ],
   "source": [
    "# Count\n",
    "\n",
    "fire_df"
   ]
  },
  {
   "cell_type": "markdown",
   "id": "c5f22cbf",
   "metadata": {
    "heading_collapsed": true
   },
   "source": [
    "# Exploratory data analysis"
   ]
  },
  {
   "cell_type": "markdown",
   "id": "ec2b659d",
   "metadata": {
    "hidden": true
   },
   "source": [
    "Prior to any further analysis, we should consider upating the data types of time related fields.\n",
    "The data dictionary provided shows the fields that are considered as of *Date & Time*.\n",
    "\n",
    "The default format should be MM-dd-yyyy HH:mm:ss.SSS ... \n",
    "\n",
    "but it looks like we have MM/dd/yyyy HH:mm:ss PM (or AM)\n",
    "\n",
    "\n",
    "|Column     | Type| Description |\n",
    "|:---:|:---:| :---:| \n",
    "| **Call Date** |Date & Time| Date the call is received at the 911 Dispatch Center. Used for reporting purposes.|\n",
    "| **Watch Date** |Date & Time| Watch date when the call is received. Watch date starts at 0800 each morning and ends at 0800 the next day.|\n",
    "| **Received DtTm** |Date & Time| Date and time of call is received at the 911 Dispatch Center.|\n",
    "| **Entry DtTm** |Date & Time| Date and time the 911 operator submits the entry of the initical call information into the CAD system.|\n",
    "| **Dispatch DtTm** |Date & Time| Date and time the 911 operator dispatches this unit to the call.|\n",
    "| **Response DtTm** |Date & Time| Date and time this unit acknowledges the dispatch and records that the unit is en route to the location of the call.|\n",
    "| **On Scene DtTm** |Date & Time| Date and time the unit records arriving to the location of the incident.|\n",
    "| **Transport DtTm** |Date & Time| If this unit is an ambulance, date and time the unit begins the transport unit arrives to hospital.|\n",
    "| **Hospital DtTm** |Date & Time| If this unit is an ambulance, date and time the unit arrives to the hospital.|\n",
    "| **Available DtTm** |Date & Time| Date and time this unit is not longer assigned to this call and it is available for another dispatch.|\n"
   ]
  },
  {
   "cell_type": "code",
   "execution_count": 15,
   "id": "c4d2907e",
   "metadata": {
    "hidden": true
   },
   "outputs": [],
   "source": [
    "# See https://spark.apache.org/docs/latest/sql-ref-datetime-pattern.html\n",
    "\n",
    "new_fire_df = ( fire_df\n",
    "                .withColumn(\"Call Date ts\", F.to_timestamp(\"Call Date\",\"MM/dd/yyyy\"))\n",
    "                .withColumn(\"Watch Date ts\", F.to_timestamp(\"Watch Date\",\"MM/dd/yyyy\"))\n",
    "                .withColumn(\"Received DtTm ts\", F.to_timestamp(\"Received DtTm\",\"MM/dd/yyyy KK:mm:ss a\"))\n",
    "                .withColumn(\"Entry DtTm ts\", F.to_timestamp(\"Entry DtTm\",\"MM/dd/yyyy KK:mm:ss a\"))\n",
    "                .withColumn(\"Dispatch DtTm ts\", F.to_timestamp(\"Dispatch DtTm\",\"MM/dd/yyyy KK:mm:ss a\"))\n",
    "                .withColumn(\"Response DtTm ts\", F.to_timestamp(\"Response DtTm\",\"MM/dd/yyyy KK:mm:ss a\"))\n",
    "                .withColumn(\"On Scene DtTm ts\", F.to_timestamp(\"On Scene DtTm\",\"MM/dd/yyyy KK:mm:ss a\"))\n",
    "                .withColumn(\"Transport DtTm ts\", F.to_timestamp(\"Transport DtTm\",\"MM/dd/yyyy KK:mm:ss a\"))\n",
    "                .withColumn(\"Entry DtTm ts\", F.to_timestamp(\"Entry DtTm\",\"MM/dd/yyyy KK:mm:ss a\"))\n",
    "                .withColumn(\"Hospital DtTm ts\", F.to_timestamp(\"Hospital DtTm\",\"MM/dd/yyyy KK:mm:ss a\"))\n",
    "                .withColumn(\"Available DtTm ts\", F.to_timestamp(\"Available DtTm\",\"MM/dd/yyyy KK:mm:ss a\"))\n",
    "                )"
   ]
  },
  {
   "cell_type": "code",
   "execution_count": 16,
   "id": "938350f1",
   "metadata": {
    "hidden": true
   },
   "outputs": [
    {
     "name": "stdout",
     "output_type": "stream",
     "text": [
      "root\n",
      " |-- Call Number: integer (nullable = true)\n",
      " |-- Unit ID: string (nullable = true)\n",
      " |-- Incident Number: integer (nullable = true)\n",
      " |-- Call Type: string (nullable = true)\n",
      " |-- Call Date: string (nullable = true)\n",
      " |-- Watch Date: string (nullable = true)\n",
      " |-- Received DtTm: string (nullable = true)\n",
      " |-- Entry DtTm: string (nullable = true)\n",
      " |-- Dispatch DtTm: string (nullable = true)\n",
      " |-- Response DtTm: string (nullable = true)\n",
      " |-- On Scene DtTm: string (nullable = true)\n",
      " |-- Transport DtTm: string (nullable = true)\n",
      " |-- Hospital DtTm: string (nullable = true)\n",
      " |-- Call Final Disposition: string (nullable = true)\n",
      " |-- Available DtTm: string (nullable = true)\n",
      " |-- Address: string (nullable = true)\n",
      " |-- City: string (nullable = true)\n",
      " |-- Zipcode of Incident: integer (nullable = true)\n",
      " |-- Battalion: string (nullable = true)\n",
      " |-- Station Area: string (nullable = true)\n",
      " |-- Box: string (nullable = true)\n",
      " |-- Original Priority: string (nullable = true)\n",
      " |-- Priority: string (nullable = true)\n",
      " |-- Final Priority: integer (nullable = true)\n",
      " |-- ALS Unit: boolean (nullable = true)\n",
      " |-- Call Type Group: string (nullable = true)\n",
      " |-- Number of Alarms: integer (nullable = true)\n",
      " |-- Unit Type: string (nullable = true)\n",
      " |-- Unit sequence in call dispatch: integer (nullable = true)\n",
      " |-- Fire Prevention District: string (nullable = true)\n",
      " |-- Supervisor District: string (nullable = true)\n",
      " |-- Neighborhooods - Analysis Boundaries: string (nullable = true)\n",
      " |-- RowID: string (nullable = true)\n",
      " |-- case_location: string (nullable = true)\n",
      " |-- Analysis Neighborhoods: integer (nullable = true)\n",
      " |-- Call Date ts: timestamp (nullable = true)\n",
      " |-- Watch Date ts: timestamp (nullable = true)\n",
      " |-- Received DtTm ts: timestamp (nullable = true)\n",
      " |-- Entry DtTm ts: timestamp (nullable = true)\n",
      " |-- Dispatch DtTm ts: timestamp (nullable = true)\n",
      " |-- Response DtTm ts: timestamp (nullable = true)\n",
      " |-- On Scene DtTm ts: timestamp (nullable = true)\n",
      " |-- Transport DtTm ts: timestamp (nullable = true)\n",
      " |-- Hospital DtTm ts: timestamp (nullable = true)\n",
      " |-- Available DtTm ts: timestamp (nullable = true)\n",
      "\n",
      "+-----------+-------+---------------+--------------------+----------+----------+--------------------+--------------------+--------------------+--------------------+--------------------+--------------------+--------------------+----------------------+--------------------+--------------------+-------------+-------------------+---------+------------+----+-----------------+--------+--------------+--------+--------------------+----------------+---------+------------------------------+------------------------+-------------------+------------------------------------+---------------+--------------------+----------------------+-------------------+-------------------+-------------------+-------------------+-------------------+-------------------+-------------------+-------------------+-------------------+-------------------+\n",
      "|Call Number|Unit ID|Incident Number|           Call Type| Call Date|Watch Date|       Received DtTm|          Entry DtTm|       Dispatch DtTm|       Response DtTm|       On Scene DtTm|      Transport DtTm|       Hospital DtTm|Call Final Disposition|      Available DtTm|             Address|         City|Zipcode of Incident|Battalion|Station Area| Box|Original Priority|Priority|Final Priority|ALS Unit|     Call Type Group|Number of Alarms|Unit Type|Unit sequence in call dispatch|Fire Prevention District|Supervisor District|Neighborhooods - Analysis Boundaries|          RowID|       case_location|Analysis Neighborhoods|       Call Date ts|      Watch Date ts|   Received DtTm ts|      Entry DtTm ts|   Dispatch DtTm ts|   Response DtTm ts|   On Scene DtTm ts|  Transport DtTm ts|   Hospital DtTm ts|  Available DtTm ts|\n",
      "+-----------+-------+---------------+--------------------+----------+----------+--------------------+--------------------+--------------------+--------------------+--------------------+--------------------+--------------------+----------------------+--------------------+--------------------+-------------+-------------------+---------+------------+----+-----------------+--------+--------------+--------+--------------------+----------------+---------+------------------------------+------------------------+-------------------+------------------------------------+---------------+--------------------+----------------------+-------------------+-------------------+-------------------+-------------------+-------------------+-------------------+-------------------+-------------------+-------------------+-------------------+\n",
      "|  221210313|    E36|       22054955|        Outside Fire|05/01/2022|04/30/2022|05/01/2022 02:58:...|05/01/2022 02:59:...|05/01/2022 02:59:...|05/01/2022 03:01:...|05/01/2022 03:02:...|                NULL|                NULL|                  Fire|05/01/2022 03:05:...|   GOUGH ST/GROVE ST|San Francisco|              94102|      B02|          36|3265|                3|       3|             3|    true|                Fire|               1|   ENGINE|                             1|                       2|                  5|                        Hayes Valley|  221210313-E36|POINT (-122.42316...|                     9|2022-05-01 00:00:00|2022-04-30 00:00:00|2022-05-01 02:58:25|2022-05-01 02:59:15|2022-05-01 02:59:25|2022-05-01 03:01:06|2022-05-01 03:02:27|               NULL|               NULL|2022-05-01 03:05:00|\n",
      "|  220190150|    E29|       22008871|              Alarms|01/19/2022|01/18/2022|01/19/2022 01:42:...|01/19/2022 01:44:...|01/19/2022 01:44:...|01/19/2022 01:46:...|01/19/2022 01:49:...|                NULL|                NULL|                  Fire|01/19/2022 02:35:...|100 Block of MISS...|San Francisco|              94107|      B03|          29|2431|                3|       3|             3|    true|               Alarm|               1|   ENGINE|                             1|                       3|                 10|                        Potrero Hill|  220190150-E29|POINT (-122.39469...|                    26|2022-01-19 00:00:00|2022-01-18 00:00:00|2022-01-19 01:42:12|2022-01-19 01:44:13|2022-01-19 01:44:28|2022-01-19 01:46:47|2022-01-19 01:49:32|               NULL|               NULL|2022-01-19 02:35:26|\n",
      "|  211233271|    T07|       21053032|              Alarms|05/03/2021|05/03/2021|05/03/2021 09:28:...|05/03/2021 09:28:...|05/03/2021 09:28:...|05/03/2021 09:29:...|05/03/2021 09:32:...|                NULL|                NULL|                  Fire|05/03/2021 09:38:...|  0 Block of HOFF ST|San Francisco|              94110|      B02|          07|5236|                A|       3|             3|   false|               Alarm|               1|    TRUCK|                             2|                       2|                  9|                             Mission|  211233271-T07|POINT (-122.42057...|                    20|2021-05-03 00:00:00|2021-05-03 00:00:00|2021-05-03 21:28:12|2021-05-03 21:28:12|2021-05-03 21:28:17|2021-05-03 21:29:10|2021-05-03 21:32:15|               NULL|               NULL|2021-05-03 21:38:09|\n",
      "|  212933533|    B02|       21127914|              Alarms|10/20/2021|10/20/2021|10/20/2021 10:08:...|10/20/2021 10:09:...|10/20/2021 10:10:...|10/20/2021 10:11:...|                NULL|                NULL|                NULL|                  Fire|10/20/2021 10:25:...|200 Block of JONE...|San Francisco|              94102|      B03|          03|1456|                3|       3|             3|   false|               Alarm|               1|    CHIEF|                             3|                       3|                  6|                          Tenderloin|  212933533-B02|POINT (-122.41243...|                    36|2021-10-20 00:00:00|2021-10-20 00:00:00|2021-10-20 22:08:47|2021-10-20 22:09:53|2021-10-20 22:10:07|2021-10-20 22:11:55|               NULL|               NULL|               NULL|2021-10-20 22:25:52|\n",
      "|  221202543|    E41|       22054815|              Alarms|04/30/2022|04/30/2022|04/30/2022 06:35:...|04/30/2022 06:37:...|04/30/2022 06:37:...|04/30/2022 06:38:...|                NULL|                NULL|                NULL|                  Fire|04/30/2022 06:40:...|1400 Block of FIL...|San Francisco|              94109|      B04|          16|3146|                3|       3|             3|   false|               Alarm|               1|   ENGINE|                             4|                       4|                  2|                        Russian Hill|  221202543-E41|POINT (-122.42333...|                    32|2022-04-30 00:00:00|2022-04-30 00:00:00|2022-04-30 18:35:58|2022-04-30 18:37:28|2022-04-30 18:37:43|2022-04-30 18:38:17|               NULL|               NULL|               NULL|2022-04-30 18:40:08|\n",
      "|  211232439|    B01|       21052945|              Alarms|05/03/2021|05/03/2021|05/03/2021 04:57:...|05/03/2021 04:58:...|05/03/2021 04:58:...|05/03/2021 05:00:...|                NULL|                NULL|                NULL|                  Fire|05/03/2021 05:05:...|500 Block of JONE...|San Francisco|              94102|      B01|          03|1462|                3|       3|             3|   false|               Alarm|               1|    CHIEF|                             2|                       1|                  6|                          Tenderloin|  211232439-B01|POINT (-122.41299...|                    36|2021-05-03 00:00:00|2021-05-03 00:00:00|2021-05-03 16:57:21|2021-05-03 16:58:39|2021-05-03 16:58:44|2021-05-03 17:00:27|               NULL|               NULL|               NULL|2021-05-03 17:05:20|\n",
      "|  211942517|    T03|       21083057|              Alarms|07/13/2021|07/13/2021|07/13/2021 04:50:...|07/13/2021 04:51:...|07/13/2021 04:51:...|                NULL|                NULL|                NULL|                NULL|                  Fire|07/13/2021 04:54:...|900 Block of VAN ...|San Francisco|              94109|      B04|          03|3162|                3|       3|             3|   false|               Alarm|               1|    TRUCK|                             3|                       2|                  6|                          Tenderloin|  211942517-T03|POINT (-122.42090...|                    36|2021-07-13 00:00:00|2021-07-13 00:00:00|2021-07-13 16:50:10|2021-07-13 16:51:07|2021-07-13 16:51:17|               NULL|               NULL|               NULL|               NULL|2021-07-13 16:54:45|\n",
      "|  212932758|    B01|       21127810|              Alarms|10/20/2021|10/20/2021|10/20/2021 05:46:...|10/20/2021 05:47:...|10/20/2021 05:48:...|10/20/2021 05:49:...|10/20/2021 05:53:...|                NULL|                NULL|                  Fire|10/20/2021 06:00:...| 0 Block of BEACH ST|San Francisco|              94133|      B01|          28|0939|                3|       3|             3|   false|               Alarm|               1|    CHIEF|                             2|                       1|                  3|                         North Beach|  212932758-B01|POINT (-122.40987...|                    23|2021-10-20 00:00:00|2021-10-20 00:00:00|2021-10-20 17:46:09|2021-10-20 17:47:57|2021-10-20 17:48:05|2021-10-20 17:49:54|2021-10-20 17:53:45|               NULL|               NULL|2021-10-20 18:00:04|\n",
      "|  221201816|    T03|       22054719|      Structure Fire|04/30/2022|04/30/2022|04/30/2022 02:27:...|04/30/2022 02:28:...|04/30/2022 02:29:...|04/30/2022 02:31:...|04/30/2022 02:31:...|                NULL|                NULL|                  Fire|04/30/2022 02:46:...|   MISSION ST/9TH ST|San Francisco|              94103|      B02|          36|2336|                3|       3|             3|   false|               Alarm|               1|    TRUCK|                             3|                       2|                  6|                     South of Market|  221201816-T03|POINT (-122.41471...|                    34|2022-04-30 00:00:00|2022-04-30 00:00:00|2022-04-30 14:27:39|2022-04-30 14:28:53|2022-04-30 14:29:13|2022-04-30 14:31:58|2022-04-30 14:31:58|               NULL|               NULL|2022-04-30 14:46:15|\n",
      "|  211941580|  SCRT4|       21082970|    Medical Incident|07/13/2021|07/13/2021|07/13/2021 12:23:...|07/13/2021 12:28:...|07/13/2021 12:47:...|07/13/2021 12:47:...|                NULL|                NULL|                NULL|                  SFPD|07/13/2021 12:48:...|100 Block of VICE...|San Francisco|              94127|      B08|          39|8612|                1|       1|             2|   false|Non Life-threatening|               1|  SUPPORT|                             1|                       8|                  7|                  West of Twin Peaks|211941580-SCRT4|POINT (-122.46750...|                    41|2021-07-13 00:00:00|2021-07-13 00:00:00|               NULL|               NULL|               NULL|               NULL|               NULL|               NULL|               NULL|               NULL|\n",
      "|  220181779|     50|       22008631|               Other|01/18/2022|01/18/2022|01/18/2022 01:38:...|01/18/2022 01:38:...|01/18/2022 01:59:...|01/18/2022 01:59:...|01/18/2022 01:59:...|                NULL|                NULL|                  Fire|01/18/2022 03:55:...|    17-TH DE HARO ST|San Francisco|              94103|      B03|          29|2355|                2|       2|             2|    true|Non Life-threatening|               1|    MEDIC|                             1|                     3.0|                 10|                         Mission Bay|   220181779-50|POINT (-122.40113...|                     4|2022-01-18 00:00:00|2022-01-18 00:00:00|2022-01-18 13:38:10|2022-01-18 13:38:47|2022-01-18 13:59:04|2022-01-18 13:59:04|2022-01-18 13:59:04|               NULL|               NULL|2022-01-18 15:55:14|\n",
      "|  220111608|    E06|       22005327|              Alarms|01/11/2022|01/11/2022|01/11/2022 01:05:...|01/11/2022 01:07:...|01/11/2022 01:07:...|01/11/2022 01:08:...|01/11/2022 01:09:...|                NULL|                NULL|                  Fire|01/11/2022 01:16:...|0 Block of SANCHE...|San Francisco|              94114|      B05|          06|5131|                3|       3|             3|    true|               Alarm|               1|   ENGINE|                             1|                       2|                  8|                 Castro/Upper Market|  220111608-E06|POINT (-122.43120...|                     5|2022-01-11 00:00:00|2022-01-11 00:00:00|2022-01-11 13:05:54|2022-01-11 13:07:03|2022-01-11 13:07:09|2022-01-11 13:08:15|2022-01-11 13:09:19|               NULL|               NULL|2022-01-11 13:16:05|\n",
      "|  220111597|  AM110|       22005326|    Medical Incident|01/11/2022|01/11/2022|01/11/2022 12:59:...|01/11/2022 01:02:...|01/11/2022 01:03:...|01/11/2022 01:03:...|01/11/2022 01:11:...|01/11/2022 02:04:...|01/11/2022 02:52:...|      Code 2 Transport|01/11/2022 03:36:...|100 Block of ADDI...|San Francisco|              94131|      B06|          26|8122|                2|       2|             2|   false|Potentially Life-...|               1|  PRIVATE|                             1|                       6|                  8|                           Glen Park|220111597-AM110|POINT (-122.43239...|                    10|2022-01-11 00:00:00|2022-01-11 00:00:00|               NULL|2022-01-11 13:02:48|2022-01-11 13:03:30|2022-01-11 13:03:48|2022-01-11 13:11:24|2022-01-11 14:04:39|2022-01-11 14:52:05|2022-01-11 15:36:28|\n",
      "|  220111595|    E07|       22005325|        Outside Fire|01/11/2022|01/11/2022|01/11/2022 01:01:...|01/11/2022 01:01:...|01/11/2022 01:02:...|01/11/2022 01:03:...|01/11/2022 01:05:...|                NULL|                NULL|                  Fire|01/11/2022 01:07:...|  FLORIDA ST/15TH ST|San Francisco|              94103|      B02|          29|5221|                A|       3|             3|    true|                Fire|               1|   ENGINE|                             1|                       2|                  9|                             Mission|  220111595-E07|POINT (-122.41158...|                    20|2022-01-11 00:00:00|2022-01-11 00:00:00|2022-01-11 13:01:47|2022-01-11 13:01:47|2022-01-11 13:02:38|2022-01-11 13:03:25|2022-01-11 13:05:37|               NULL|               NULL|2022-01-11 13:07:41|\n",
      "|  220181524|    E08|       22008605|              Alarms|01/18/2022|01/18/2022|01/18/2022 12:19:...|01/18/2022 12:22:...|01/18/2022 12:23:...|01/18/2022 12:23:...|01/18/2022 12:24:...|                NULL|                NULL|                  Fire|01/18/2022 12:27:...|600 Block of BRYA...|San Francisco|              94107|      B03|          08|2242|                3|       3|             3|    true|               Alarm|               1|   ENGINE|                             2|                     3.0|                  6|                     South of Market|  220181524-E08|POINT (-122.39917...|                    34|2022-01-18 00:00:00|2022-01-18 00:00:00|               NULL|               NULL|               NULL|               NULL|               NULL|               NULL|               NULL|               NULL|\n",
      "|  221201435|    E41|       22054664|        Outside Fire|04/30/2022|04/30/2022|04/30/2022 12:32:...|04/30/2022 12:34:...|04/30/2022 12:34:...|04/30/2022 12:35:...|04/30/2022 12:37:...|                NULL|                NULL|                  Fire|04/30/2022 12:41:...|  LARKIN ST/GREEN ST|San Francisco|              94109|      B01|          41|1631|                3|       3|             3|   false|                Fire|               1|   ENGINE|                             1|                       1|                  3|                        Russian Hill|  221201435-E41|POINT (-122.42050...|                    32|2022-04-30 00:00:00|2022-04-30 00:00:00|               NULL|               NULL|               NULL|               NULL|               NULL|               NULL|               NULL|               NULL|\n",
      "|  211941035|    T05|       21082896|Citizen Assist / ...|07/13/2021|07/13/2021|07/13/2021 10:00:...|07/13/2021 10:01:...|07/13/2021 10:05:...|07/13/2021 10:05:...|                NULL|                NULL|                NULL|                  Fire|07/13/2021 10:10:...|0 Block of FRANKL...|San Francisco|              94102|      B02|          36|3212|                3|       3|             3|   false|               Alarm|               1|    TRUCK|                             3|                       2|                  5|                        Hayes Valley|  211941035-T05|POINT (-122.42074...|                     9|2021-07-13 00:00:00|2021-07-13 00:00:00|2021-07-13 10:00:30|2021-07-13 10:01:59|2021-07-13 10:05:38|2021-07-13 10:05:46|               NULL|               NULL|               NULL|2021-07-13 10:10:08|\n",
      "|  220181030|    B10|       22008545|              Alarms|01/18/2022|01/18/2022|01/18/2022 10:09:...|01/18/2022 10:11:...|01/18/2022 10:11:...|01/18/2022 10:12:...|                NULL|                NULL|                NULL|                  Fire|01/18/2022 10:21:...|700 Block of FLOR...|San Francisco|              94110|      B06|          07|5451|                3|       3|             3|   false|               Alarm|               1|    CHIEF|                             2|                       6|                  9|                             Mission|  220181030-B10|POINT (-122.41082...|                    20|2022-01-18 00:00:00|2022-01-18 00:00:00|2022-01-18 10:09:29|2022-01-18 10:11:19|2022-01-18 10:11:25|2022-01-18 10:12:14|               NULL|               NULL|               NULL|2022-01-18 10:21:57|\n",
      "|  222091290|    T10|       22096127|              Alarms|07/28/2022|07/28/2022|07/28/2022 11:47:...|07/28/2022 11:49:...|07/28/2022 11:50:...|07/28/2022 11:51:...|                NULL|                NULL|                NULL|                  Fire|07/28/2022 11:56:...|300 Block of MASO...|San Francisco|              94118|      B05|          21|4462|                3|       3|             3|   false|               Alarm|               1|    TRUCK|                             3|                       5|                  5|                   Lone Mountain/USF|  222091290-T10|POINT (-122.44687...|                    18|2022-07-28 00:00:00|2022-07-28 00:00:00|2022-07-28 11:47:47|2022-07-28 11:49:52|2022-07-28 11:50:13|2022-07-28 11:51:44|               NULL|               NULL|               NULL|2022-07-28 11:56:01|\n",
      "|  222091252|  SCRT3|       22096119|               Other|07/28/2022|07/28/2022|07/28/2022 11:39:...|07/28/2022 11:39:...|07/28/2022 11:39:...|                NULL|                NULL|                NULL|                NULL|             Cancelled|07/28/2022 11:40:...|900 Block of MARK...|San Francisco|              94103|      B01|          01|2247|                A|       1|             2|   false|                NULL|               1|  SUPPORT|                             1|                       3|                  6|                     South of Market|222091252-SCRT3|POINT (-122.40842...|                    34|2022-07-28 00:00:00|2022-07-28 00:00:00|2022-07-28 11:39:25|2022-07-28 11:39:25|2022-07-28 11:39:50|               NULL|               NULL|               NULL|               NULL|2022-07-28 11:40:38|\n",
      "+-----------+-------+---------------+--------------------+----------+----------+--------------------+--------------------+--------------------+--------------------+--------------------+--------------------+--------------------+----------------------+--------------------+--------------------+-------------+-------------------+---------+------------+----+-----------------+--------+--------------+--------+--------------------+----------------+---------+------------------------------+------------------------+-------------------+------------------------------------+---------------+--------------------+----------------------+-------------------+-------------------+-------------------+-------------------+-------------------+-------------------+-------------------+-------------------+-------------------+-------------------+\n",
      "only showing top 20 rows\n",
      "\n"
     ]
    }
   ],
   "source": [
    "# Check changes\n",
    "\n",
    "new_fire_df.\n",
    "new_fire_df."
   ]
  },
  {
   "cell_type": "code",
   "execution_count": 17,
   "id": "8c824bfb",
   "metadata": {
    "hidden": true
   },
   "outputs": [],
   "source": [
    "# Delete old dataframe if no longer needed\n",
    "\n",
    "del fire_df"
   ]
  },
  {
   "cell_type": "code",
   "execution_count": 18,
   "id": "7d6343f4",
   "metadata": {
    "hidden": true
   },
   "outputs": [],
   "source": [
    "# Cache the DataFrame since we will be performing many operations on it.\n",
    "# It makes operations faster at expenses of memory storage. \n",
    "# Or better not using it!\n",
    "\n",
    "# new_fire_df.cache()"
   ]
  },
  {
   "cell_type": "markdown",
   "id": "96f048a2",
   "metadata": {
    "hidden": true
   },
   "source": [
    "## Questions to be anwsered"
   ]
  },
  {
   "cell_type": "code",
   "execution_count": 19,
   "id": "61e2842a",
   "metadata": {
    "hidden": true
   },
   "outputs": [
    {
     "data": {
      "text/plain": [
       "['Call Number',\n",
       " 'Unit ID',\n",
       " 'Incident Number',\n",
       " 'Call Type',\n",
       " 'Call Date',\n",
       " 'Watch Date',\n",
       " 'Received DtTm',\n",
       " 'Entry DtTm',\n",
       " 'Dispatch DtTm',\n",
       " 'Response DtTm',\n",
       " 'On Scene DtTm',\n",
       " 'Transport DtTm',\n",
       " 'Hospital DtTm',\n",
       " 'Call Final Disposition',\n",
       " 'Available DtTm',\n",
       " 'Address',\n",
       " 'City',\n",
       " 'Zipcode of Incident',\n",
       " 'Battalion',\n",
       " 'Station Area',\n",
       " 'Box',\n",
       " 'Original Priority',\n",
       " 'Priority',\n",
       " 'Final Priority',\n",
       " 'ALS Unit',\n",
       " 'Call Type Group',\n",
       " 'Number of Alarms',\n",
       " 'Unit Type',\n",
       " 'Unit sequence in call dispatch',\n",
       " 'Fire Prevention District',\n",
       " 'Supervisor District',\n",
       " 'Neighborhooods - Analysis Boundaries',\n",
       " 'RowID',\n",
       " 'case_location',\n",
       " 'Analysis Neighborhoods',\n",
       " 'Call Date ts',\n",
       " 'Watch Date ts',\n",
       " 'Received DtTm ts',\n",
       " 'Entry DtTm ts',\n",
       " 'Dispatch DtTm ts',\n",
       " 'Response DtTm ts',\n",
       " 'On Scene DtTm ts',\n",
       " 'Transport DtTm ts',\n",
       " 'Hospital DtTm ts',\n",
       " 'Available DtTm ts']"
      ]
     },
     "execution_count": 19,
     "metadata": {},
     "output_type": "execute_result"
    }
   ],
   "source": [
    "# Just to review columns' name\n",
    "\n",
    "new_fire_df."
   ]
  },
  {
   "cell_type": "code",
   "execution_count": 20,
   "id": "b3ce9571-9598-4fc3-899c-ecc38e88e611",
   "metadata": {},
   "outputs": [],
   "source": [
    "# Set a short list of main columns just for showing purposes, if needed\n",
    "\n",
    "main_cols = ['Call Number',\n",
    " 'Unit ID',\n",
    " 'Incident Number',\n",
    " 'Call Type',\n",
    " 'Call Final Disposition',\n",
    " 'Available DtTm',\n",
    " 'Address',\n",
    " 'City',\n",
    " 'Zipcode of Incident',\n",
    " 'Call Date ts',\n",
    " 'Watch Date ts',\n",
    " 'Received DtTm ts',\n",
    " 'Entry DtTm ts',\n",
    " 'Dispatch DtTm ts',\n",
    " 'Response DtTm ts',\n",
    " 'On Scene DtTm ts',\n",
    " 'Transport DtTm ts',\n",
    " 'Hospital DtTm ts',\n",
    " 'Available DtTm ts']"
   ]
  },
  {
   "cell_type": "markdown",
   "id": "f1a342bb",
   "metadata": {
    "hidden": true
   },
   "source": [
    "**1) How many distinct types of calls were made to the Fire Department?**\n",
    "\n",
    "Of course, we will not count \"null\" strings in that column."
   ]
  },
  {
   "cell_type": "code",
   "execution_count": 21,
   "id": "585e9e8a",
   "metadata": {
    "hidden": true,
    "tags": []
   },
   "outputs": [
    {
     "name": "stderr",
     "output_type": "stream",
     "text": [
      "                                                                                \r"
     ]
    },
    {
     "data": {
      "text/plain": [
       "33"
      ]
     },
     "execution_count": 21,
     "metadata": {},
     "output_type": "execute_result"
    }
   ],
   "source": [
    "new_fire_df."
   ]
  },
  {
   "cell_type": "markdown",
   "id": "7ce4be82",
   "metadata": {
    "hidden": true
   },
   "source": [
    "**2) What are the distinct types of calls that were made to the Fire Department?**"
   ]
  },
  {
   "cell_type": "code",
   "execution_count": 22,
   "id": "51c88714",
   "metadata": {
    "hidden": true
   },
   "outputs": [
    {
     "name": "stderr",
     "output_type": "stream",
     "text": [
      "[Stage 13:====================================================>   (17 + 1) / 18]\r"
     ]
    },
    {
     "name": "stdout",
     "output_type": "stream",
     "text": [
      "+--------------------------------------------+\n",
      "|Call Type                                   |\n",
      "+--------------------------------------------+\n",
      "|Electrical Hazard                           |\n",
      "|High Angle Rescue                           |\n",
      "|Assist Police                               |\n",
      "|Train / Rail Incident                       |\n",
      "|Medical Incident                            |\n",
      "|Vehicle Fire                                |\n",
      "|Explosion                                   |\n",
      "|Confined Space / Structure Collapse         |\n",
      "|Industrial Accidents                        |\n",
      "|Administrative                              |\n",
      "|Train / Rail Fire                           |\n",
      "|Alarms                                      |\n",
      "|Structure Fire                              |\n",
      "|Water Rescue                                |\n",
      "|Elevator / Escalator Rescue                 |\n",
      "|Smoke Investigation (Outside)               |\n",
      "|HazMat                                      |\n",
      "|Marine Fire                                 |\n",
      "|Outside Fire                                |\n",
      "|Citizen Assist / Service Call               |\n",
      "|Odor (Strange / Unknown)                    |\n",
      "|Gas Leak (Natural and LP Gases)             |\n",
      "|Mutual Aid / Assist Outside Agency          |\n",
      "|Extrication / Entrapped (Machinery, Vehicle)|\n",
      "|Other                                       |\n",
      "|Traffic Collision                           |\n",
      "|Fuel Spill                                  |\n",
      "|Watercraft in Distress                      |\n",
      "|Suspicious Package                          |\n",
      "|Oil Spill                                   |\n",
      "|Aircraft Emergency                          |\n",
      "|Structure Fire / Smoke in Building          |\n",
      "|Lightning Strike (Investigation)            |\n",
      "+--------------------------------------------+\n",
      "\n"
     ]
    },
    {
     "name": "stderr",
     "output_type": "stream",
     "text": [
      "                                                                                \r"
     ]
    }
   ],
   "source": [
    "new_fire_df."
   ]
  },
  {
   "cell_type": "markdown",
   "id": "7b298bdc",
   "metadata": {
    "hidden": true
   },
   "source": [
    "**3) Find out all responses or delayed times that were greater than 5 minutes?**\n",
    "\n",
    "*(from the moment call is received till response is acknowledged and unit is on route)*\n",
    "\n",
    "1. Creates a new field *Response Delay* with the delay in minutes\n",
    "2. Filter out the records with delay higher than 5 minutes."
   ]
  },
  {
   "cell_type": "code",
   "execution_count": 23,
   "id": "42cba27e",
   "metadata": {
    "hidden": true
   },
   "outputs": [],
   "source": [
    "new_fire_df = new_fire_df.withColumn(\"Response Delay\", \n",
    "        F.unix_timestamp(F.col(\"Response DtTm ts\")) - F.unix_timestamp(F.col(\"Received DtTm ts\")))              "
   ]
  },
  {
   "cell_type": "code",
   "execution_count": 24,
   "id": "73609386",
   "metadata": {
    "hidden": true
   },
   "outputs": [
    {
     "name": "stdout",
     "output_type": "stream",
     "text": [
      "+-----------+-------+---------------+-----------------------------+----------------------+----------------------+---------------------------+-------------+-------------------+-------------------+-------------------+-------------------+-------------------+-------------------+-------------------+-------------------+-------------------+-------------------+-------------------+--------------+\n",
      "|Call Number|Unit ID|Incident Number|Call Type                    |Call Final Disposition|Available DtTm        |Address                    |City         |Zipcode of Incident|Call Date ts       |Watch Date ts      |Received DtTm ts   |Entry DtTm ts      |Dispatch DtTm ts   |Response DtTm ts   |On Scene DtTm ts   |Transport DtTm ts  |Hospital DtTm ts   |Available DtTm ts  |Response Delay|\n",
      "+-----------+-------+---------------+-----------------------------+----------------------+----------------------+---------------------------+-------------+-------------------+-------------------+-------------------+-------------------+-------------------+-------------------+-------------------+-------------------+-------------------+-------------------+-------------------+--------------+\n",
      "|221210313  |E36    |22054955       |Outside Fire                 |Fire                  |05/01/2022 03:05:00 AM|GOUGH ST/GROVE ST          |San Francisco|94102              |2022-05-01 00:00:00|2022-04-30 00:00:00|2022-05-01 02:58:25|2022-05-01 02:59:15|2022-05-01 02:59:25|2022-05-01 03:01:06|2022-05-01 03:02:27|NULL               |NULL               |2022-05-01 03:05:00|161           |\n",
      "|220190150  |E29    |22008871       |Alarms                       |Fire                  |01/19/2022 02:35:26 AM|100 Block of MISSISSIPPI ST|San Francisco|94107              |2022-01-19 00:00:00|2022-01-18 00:00:00|2022-01-19 01:42:12|2022-01-19 01:44:13|2022-01-19 01:44:28|2022-01-19 01:46:47|2022-01-19 01:49:32|NULL               |NULL               |2022-01-19 02:35:26|275           |\n",
      "|211233271  |T07    |21053032       |Alarms                       |Fire                  |05/03/2021 09:38:09 PM|0 Block of HOFF ST         |San Francisco|94110              |2021-05-03 00:00:00|2021-05-03 00:00:00|2021-05-03 21:28:12|2021-05-03 21:28:12|2021-05-03 21:28:17|2021-05-03 21:29:10|2021-05-03 21:32:15|NULL               |NULL               |2021-05-03 21:38:09|58            |\n",
      "|212933533  |B02    |21127914       |Alarms                       |Fire                  |10/20/2021 10:25:52 PM|200 Block of JONES ST      |San Francisco|94102              |2021-10-20 00:00:00|2021-10-20 00:00:00|2021-10-20 22:08:47|2021-10-20 22:09:53|2021-10-20 22:10:07|2021-10-20 22:11:55|NULL               |NULL               |NULL               |2021-10-20 22:25:52|188           |\n",
      "|221202543  |E41    |22054815       |Alarms                       |Fire                  |04/30/2022 06:40:08 PM|1400 Block of FILBERT ST   |San Francisco|94109              |2022-04-30 00:00:00|2022-04-30 00:00:00|2022-04-30 18:35:58|2022-04-30 18:37:28|2022-04-30 18:37:43|2022-04-30 18:38:17|NULL               |NULL               |NULL               |2022-04-30 18:40:08|139           |\n",
      "|211232439  |B01    |21052945       |Alarms                       |Fire                  |05/03/2021 05:05:20 PM|500 Block of JONES ST      |San Francisco|94102              |2021-05-03 00:00:00|2021-05-03 00:00:00|2021-05-03 16:57:21|2021-05-03 16:58:39|2021-05-03 16:58:44|2021-05-03 17:00:27|NULL               |NULL               |NULL               |2021-05-03 17:05:20|186           |\n",
      "|211942517  |T03    |21083057       |Alarms                       |Fire                  |07/13/2021 04:54:45 PM|900 Block of VAN NESS AVE  |San Francisco|94109              |2021-07-13 00:00:00|2021-07-13 00:00:00|2021-07-13 16:50:10|2021-07-13 16:51:07|2021-07-13 16:51:17|NULL               |NULL               |NULL               |NULL               |2021-07-13 16:54:45|NULL          |\n",
      "|212932758  |B01    |21127810       |Alarms                       |Fire                  |10/20/2021 06:00:04 PM|0 Block of BEACH ST        |San Francisco|94133              |2021-10-20 00:00:00|2021-10-20 00:00:00|2021-10-20 17:46:09|2021-10-20 17:47:57|2021-10-20 17:48:05|2021-10-20 17:49:54|2021-10-20 17:53:45|NULL               |NULL               |2021-10-20 18:00:04|225           |\n",
      "|221201816  |T03    |22054719       |Structure Fire               |Fire                  |04/30/2022 02:46:15 PM|MISSION ST/9TH ST          |San Francisco|94103              |2022-04-30 00:00:00|2022-04-30 00:00:00|2022-04-30 14:27:39|2022-04-30 14:28:53|2022-04-30 14:29:13|2022-04-30 14:31:58|2022-04-30 14:31:58|NULL               |NULL               |2022-04-30 14:46:15|259           |\n",
      "|211941580  |SCRT4  |21082970       |Medical Incident             |SFPD                  |07/13/2021 12:48:46 PM|100 Block of VICENTE ST    |San Francisco|94127              |2021-07-13 00:00:00|2021-07-13 00:00:00|NULL               |NULL               |NULL               |NULL               |NULL               |NULL               |NULL               |NULL               |NULL          |\n",
      "|220181779  |50     |22008631       |Other                        |Fire                  |01/18/2022 03:55:14 PM|17-TH DE HARO ST           |San Francisco|94103              |2022-01-18 00:00:00|2022-01-18 00:00:00|2022-01-18 13:38:10|2022-01-18 13:38:47|2022-01-18 13:59:04|2022-01-18 13:59:04|2022-01-18 13:59:04|NULL               |NULL               |2022-01-18 15:55:14|1254          |\n",
      "|220111608  |E06    |22005327       |Alarms                       |Fire                  |01/11/2022 01:16:05 PM|0 Block of SANCHEZ ST      |San Francisco|94114              |2022-01-11 00:00:00|2022-01-11 00:00:00|2022-01-11 13:05:54|2022-01-11 13:07:03|2022-01-11 13:07:09|2022-01-11 13:08:15|2022-01-11 13:09:19|NULL               |NULL               |2022-01-11 13:16:05|141           |\n",
      "|220111597  |AM110  |22005326       |Medical Incident             |Code 2 Transport      |01/11/2022 03:36:28 PM|100 Block of ADDISON ST    |San Francisco|94131              |2022-01-11 00:00:00|2022-01-11 00:00:00|NULL               |2022-01-11 13:02:48|2022-01-11 13:03:30|2022-01-11 13:03:48|2022-01-11 13:11:24|2022-01-11 14:04:39|2022-01-11 14:52:05|2022-01-11 15:36:28|NULL          |\n",
      "|220111595  |E07    |22005325       |Outside Fire                 |Fire                  |01/11/2022 01:07:41 PM|FLORIDA ST/15TH ST         |San Francisco|94103              |2022-01-11 00:00:00|2022-01-11 00:00:00|2022-01-11 13:01:47|2022-01-11 13:01:47|2022-01-11 13:02:38|2022-01-11 13:03:25|2022-01-11 13:05:37|NULL               |NULL               |2022-01-11 13:07:41|98            |\n",
      "|220181524  |E08    |22008605       |Alarms                       |Fire                  |01/18/2022 12:27:19 PM|600 Block of BRYANT ST     |San Francisco|94107              |2022-01-18 00:00:00|2022-01-18 00:00:00|NULL               |NULL               |NULL               |NULL               |NULL               |NULL               |NULL               |NULL               |NULL          |\n",
      "|221201435  |E41    |22054664       |Outside Fire                 |Fire                  |04/30/2022 12:41:42 PM|LARKIN ST/GREEN ST         |San Francisco|94109              |2022-04-30 00:00:00|2022-04-30 00:00:00|NULL               |NULL               |NULL               |NULL               |NULL               |NULL               |NULL               |NULL               |NULL          |\n",
      "|211941035  |T05    |21082896       |Citizen Assist / Service Call|Fire                  |07/13/2021 10:10:08 AM|0 Block of FRANKLIN ST     |San Francisco|94102              |2021-07-13 00:00:00|2021-07-13 00:00:00|2021-07-13 10:00:30|2021-07-13 10:01:59|2021-07-13 10:05:38|2021-07-13 10:05:46|NULL               |NULL               |NULL               |2021-07-13 10:10:08|316           |\n",
      "|220181030  |B10    |22008545       |Alarms                       |Fire                  |01/18/2022 10:21:57 AM|700 Block of FLORIDA ST    |San Francisco|94110              |2022-01-18 00:00:00|2022-01-18 00:00:00|2022-01-18 10:09:29|2022-01-18 10:11:19|2022-01-18 10:11:25|2022-01-18 10:12:14|NULL               |NULL               |NULL               |2022-01-18 10:21:57|165           |\n",
      "|222091290  |T10    |22096127       |Alarms                       |Fire                  |07/28/2022 11:56:01 AM|300 Block of MASONIC AVE   |San Francisco|94118              |2022-07-28 00:00:00|2022-07-28 00:00:00|2022-07-28 11:47:47|2022-07-28 11:49:52|2022-07-28 11:50:13|2022-07-28 11:51:44|NULL               |NULL               |NULL               |2022-07-28 11:56:01|237           |\n",
      "|222091252  |SCRT3  |22096119       |Other                        |Cancelled             |07/28/2022 11:40:38 AM|900 Block of MARKET ST     |San Francisco|94103              |2022-07-28 00:00:00|2022-07-28 00:00:00|2022-07-28 11:39:25|2022-07-28 11:39:25|2022-07-28 11:39:50|NULL               |NULL               |NULL               |NULL               |2022-07-28 11:40:38|NULL          |\n",
      "+-----------+-------+---------------+-----------------------------+----------------------+----------------------+---------------------------+-------------+-------------------+-------------------+-------------------+-------------------+-------------------+-------------------+-------------------+-------------------+-------------------+-------------------+-------------------+--------------+\n",
      "only showing top 20 rows\n",
      "\n"
     ]
    }
   ],
   "source": [
    "cols_to_show = main_cols + ['Response Delay']\n",
    "new_fire_df."
   ]
  },
  {
   "cell_type": "code",
   "execution_count": 25,
   "id": "720dc0a5",
   "metadata": {
    "hidden": true
   },
   "outputs": [
    {
     "name": "stdout",
     "output_type": "stream",
     "text": [
      "+-----------+-----------------------------+-------------------------------+-------------------+-------------------+--------------+\n",
      "|Call Number|Call Type                    |Address                        |Received DtTm ts   |Response DtTm ts   |Response Delay|\n",
      "+-----------+-----------------------------+-------------------------------+-------------------+-------------------+--------------+\n",
      "|220181779  |Other                        |17-TH DE HARO ST               |2022-01-18 13:38:10|2022-01-18 13:59:04|1254          |\n",
      "|211941035  |Citizen Assist / Service Call|0 Block of FRANKLIN ST         |2021-07-13 10:00:30|2021-07-13 10:05:46|316           |\n",
      "|220180731  |Medical Incident             |0 Block of CARL ST             |2022-01-18 08:42:03|2022-01-18 08:47:15|312           |\n",
      "|211940174  |Medical Incident             |500 Block of SOUTH VAN NESS AVE|2021-07-13 02:48:01|2021-07-13 02:54:19|378           |\n",
      "|221200301  |Alarms                       |1000 Block of CHURCH ST        |2022-04-30 02:55:25|2022-04-30 03:01:14|349           |\n",
      "|211230167  |Medical Incident             |HYDE ST/GROVE ST               |2021-05-03 02:55:59|2021-05-03 03:01:45|346           |\n",
      "|220162991  |Medical Incident             |CHESTNUT ST/DIVISADERO ST      |2022-01-16 23:07:09|2022-01-16 23:14:19|430           |\n",
      "|211212414  |Medical Incident             |1000 Block of VALENCIA ST      |2021-05-01 17:44:02|2021-05-01 18:06:59|1377          |\n",
      "|220161959  |Medical Incident             |0 Block of THOMAS MORE WAY     |2022-01-16 16:35:10|2022-01-16 16:44:03|533           |\n",
      "|211210756  |Electrical Hazard            |400 Block of STOCKTON ST       |2021-05-01 09:03:25|2021-05-01 09:09:39|374           |\n",
      "|210371768  |Medical Incident             |1900 Block of LEAVENWORTH ST   |2021-02-06 14:10:05|2021-02-06 14:15:31|326           |\n",
      "|210360819  |Medical Incident             |CALL BOX: FS YB-BLDG 213       |2021-02-05 08:48:56|2021-02-05 08:55:17|381           |\n",
      "|212892503  |Fuel Spill                   |15TH ST/GUERRERO ST            |2021-10-16 17:06:29|2021-10-16 17:11:34|305           |\n",
      "|211900275  |Alarms                       |700 Block of 29TH AVE          |2021-07-09 03:47:03|2021-07-09 03:52:08|305           |\n",
      "|211180439  |Alarms                       |2000 Block of MISSION ST       |2021-04-28 06:36:40|2021-04-28 06:41:55|315           |\n",
      "|211870109  |Alarms                       |0 Block of 7TH ST              |2021-07-06 01:13:36|2021-07-06 01:19:09|333           |\n",
      "|222023230  |High Angle Rescue            |0 Block of BOWL DR             |2022-07-21 22:16:08|2022-07-21 22:22:00|352           |\n",
      "|211862605  |Medical Incident             |500 Block of VALENCIA ST       |2021-07-05 17:19:43|2021-07-05 17:26:22|399           |\n",
      "|220112731  |Alarms                       |0 Block of OAKWOOD ST          |2022-01-11 18:12:20|2022-01-11 18:18:07|347           |\n",
      "|221122156  |Elevator / Escalator Rescue  |100 Block of TAYLOR ST         |2022-04-22 15:38:14|2022-04-22 15:43:31|317           |\n",
      "+-----------+-----------------------------+-------------------------------+-------------------+-------------------+--------------+\n",
      "only showing top 20 rows\n",
      "\n"
     ]
    }
   ],
   "source": [
    "cols_to_show = \n",
    "\n",
    "( new_fire_df\n",
    "     .\n",
    " \n",
    ")"
   ]
  },
  {
   "cell_type": "markdown",
   "id": "a6e5b677",
   "metadata": {
    "hidden": true
   },
   "source": [
    "**4) What were the most common call types, listed in descending order by count?**"
   ]
  },
  {
   "cell_type": "code",
   "execution_count": 26,
   "id": "55244adb",
   "metadata": {
    "hidden": true
   },
   "outputs": [
    {
     "name": "stderr",
     "output_type": "stream",
     "text": [
      "[Stage 18:====================================================>   (17 + 1) / 18]\r"
     ]
    },
    {
     "name": "stdout",
     "output_type": "stream",
     "text": [
      "+----------------------------------+-------+\n",
      "|Call Type                         |count  |\n",
      "+----------------------------------+-------+\n",
      "|Medical Incident                  |4012244|\n",
      "|Structure Fire                    |715178 |\n",
      "|Alarms                            |677178 |\n",
      "|Traffic Collision                 |247862 |\n",
      "|Other                             |101940 |\n",
      "|Citizen Assist / Service Call     |90988  |\n",
      "|Outside Fire                      |79245  |\n",
      "|Water Rescue                      |32353  |\n",
      "|Gas Leak (Natural and LP Gases)   |27573  |\n",
      "|Vehicle Fire                      |27435  |\n",
      "|Electrical Hazard                 |20112  |\n",
      "|Elevator / Escalator Rescue       |16849  |\n",
      "|Smoke Investigation (Outside)     |13867  |\n",
      "|Odor (Strange / Unknown)          |13405  |\n",
      "|Fuel Spill                        |6781   |\n",
      "|HazMat                            |4313   |\n",
      "|Industrial Accidents              |3275   |\n",
      "|Explosion                         |2974   |\n",
      "|Structure Fire / Smoke in Building|2180   |\n",
      "|Train / Rail Incident             |1628   |\n",
      "+----------------------------------+-------+\n",
      "only showing top 20 rows\n",
      "\n"
     ]
    },
    {
     "name": "stderr",
     "output_type": "stream",
     "text": [
      "                                                                                \r"
     ]
    }
   ],
   "source": [
    "outcome_df = ( new_fire_df\n",
    "              .\n",
    "              \n",
    "             )\n",
    "\n",
    "outcome_df.show(truncate=False)"
   ]
  },
  {
   "cell_type": "raw",
   "id": "79b6db70-e257-4bd2-b136-eaee6a7fef9f",
   "metadata": {},
   "source": [
    "Visualizing the top 10 results"
   ]
  },
  {
   "cell_type": "code",
   "execution_count": 27,
   "id": "34d82f63-20bf-4b22-8102-852a4790680d",
   "metadata": {},
   "outputs": [
    {
     "name": "stderr",
     "output_type": "stream",
     "text": [
      "                                                                                \r"
     ]
    }
   ],
   "source": [
    "# PySpark DataFrame to pandas-on-Spark DataFrame and then to pandas, \n",
    "# just for visualization\n",
    "\n",
    "outcome_vis = outcome_df.limit(10).pandas_api().to_pandas()"
   ]
  },
  {
   "cell_type": "code",
   "execution_count": 28,
   "id": "3a0b5691-b27f-42ac-bef5-fd3b06feb4b7",
   "metadata": {},
   "outputs": [
    {
     "data": {
      "image/png": "[encoded data removed]",
      "text/plain": [
       "<Figure size 640x480 with 1 Axes>"
      ]
     },
     "metadata": {},
     "output_type": "display_data"
    }
   ],
   "source": [
    "plotHorizBar(df=outcome_vis, xcol=\"count\", ycol=\"Call Type\", colour=\"red\")"
   ]
  },
  {
   "cell_type": "markdown",
   "id": "cd0c84cc",
   "metadata": {
    "hidden": true
   },
   "source": [
    "**5) What zip codes accounted for most common calls and what type were they?**\n",
    "\n",
    "1. Filter out by Call Type\n",
    "2. Group them by Call Type and Zipcode of Incident\n",
    "3. Count them and display in descending order"
   ]
  },
  {
   "cell_type": "code",
   "execution_count": 29,
   "id": "08894cd6",
   "metadata": {
    "hidden": true
   },
   "outputs": [
    {
     "name": "stderr",
     "output_type": "stream",
     "text": [
      "[Stage 24:====================================================>   (17 + 1) / 18]\r"
     ]
    },
    {
     "name": "stdout",
     "output_type": "stream",
     "text": [
      "+----------------+-------------------+------+\n",
      "|Call Type       |Zipcode of Incident|count |\n",
      "+----------------+-------------------+------+\n",
      "|Medical Incident|94102              |582264|\n",
      "|Medical Incident|94103              |538180|\n",
      "|Medical Incident|94109              |347426|\n",
      "|Medical Incident|94110              |346086|\n",
      "|Medical Incident|94124              |206334|\n",
      "|Medical Incident|94112              |194948|\n",
      "|Medical Incident|94115              |166438|\n",
      "|Medical Incident|94107              |147324|\n",
      "|Medical Incident|94122              |144526|\n",
      "|Medical Incident|94133              |135291|\n",
      "|Medical Incident|94117              |124388|\n",
      "|Medical Incident|94114              |116025|\n",
      "|Medical Incident|94134              |114919|\n",
      "|Medical Incident|94118              |109054|\n",
      "|Medical Incident|94121              |102458|\n",
      "|Medical Incident|94116              |89414 |\n",
      "|Medical Incident|94132              |87845 |\n",
      "|Medical Incident|94105              |81881 |\n",
      "|Alarms          |94102              |77647 |\n",
      "|Medical Incident|94108              |75248 |\n",
      "+----------------+-------------------+------+\n",
      "only showing top 20 rows\n",
      "\n"
     ]
    },
    {
     "name": "stderr",
     "output_type": "stream",
     "text": [
      "                                                                                \r"
     ]
    }
   ],
   "source": [
    "( new_fire_df\n",
    "     .\n",
    " \n",
    ")"
   ]
  },
  {
   "cell_type": "markdown",
   "id": "bc8c01cb",
   "metadata": {
    "hidden": true
   },
   "source": [
    "**6) What neighbourhoods are in the two top zip codes from the listing in the previous question?**\n",
    "\n",
    "Probably these two zip codes are somehow related to contested neighbourhood with high reported crimes."
   ]
  },
  {
   "cell_type": "code",
   "execution_count": 30,
   "id": "ea22ac75",
   "metadata": {
    "hidden": true
   },
   "outputs": [
    {
     "name": "stderr",
     "output_type": "stream",
     "text": [
      "[Stage 27:====================================================>   (17 + 1) / 18]\r"
     ]
    },
    {
     "name": "stdout",
     "output_type": "stream",
     "text": [
      "+------------------------------------+-------------------+\n",
      "|Neighborhooods - Analysis Boundaries|Zipcode of Incident|\n",
      "+------------------------------------+-------------------+\n",
      "|Financial District/South Beach      |94102              |\n",
      "|South of Market                     |94102              |\n",
      "|Mission Bay                         |94103              |\n",
      "|Nob Hill                            |94102              |\n",
      "|Castro/Upper Market                 |94103              |\n",
      "|Hayes Valley                        |94102              |\n",
      "|Tenderloin                          |94103              |\n",
      "|Western Addition                    |94102              |\n",
      "|Potrero Hill                        |94103              |\n",
      "|Mission                             |94103              |\n",
      "|Hayes Valley                        |94103              |\n",
      "|Tenderloin                          |94102              |\n",
      "|South of Market                     |94103              |\n",
      "|Financial District/South Beach      |94103              |\n",
      "|Mission                             |94102              |\n",
      "+------------------------------------+-------------------+\n",
      "\n"
     ]
    },
    {
     "name": "stderr",
     "output_type": "stream",
     "text": [
      "                                                                                \r"
     ]
    }
   ],
   "source": [
    "( new_fire_df\n",
    "     .\n",
    " \n",
    ")"
   ]
  },
  {
   "cell_type": "markdown",
   "id": "fda889ec",
   "metadata": {
    "heading_collapsed": true
   },
   "source": [
    "# Additional exercise\n",
    "\n",
    "Using the given dataset, write down code to answer the following questions:\n",
    "\n",
    "1. What was the sum of all calls, average, min and max of the response times for calls (from the moment call is received till response is acknowledged and unit is on route)?\n",
    "\n",
    "    Hint: Use the functions sum(), avg(), min() and max()\n",
    "\n",
    "2. How many distinct years of data is in the CSV file?\n",
    "\n",
    "    Hint: Use the year() SQL Spark function off the timestamp of the Call Date column\n",
    "\n",
    "3. What week of the year in 2017 had the most fire calls?\n",
    "\n",
    "    Hint: Use the weekofyear() SQL Spark function off the timestamp of the Call Date column\n",
    "    \n",
    "Furthermore, create some visualizations to better understand the results obtained."
   ]
  },
  {
   "cell_type": "markdown",
   "id": "91a361e2",
   "metadata": {
    "heading_collapsed": true
   },
   "source": [
    "# References"
   ]
  },
  {
   "cell_type": "markdown",
   "id": "40dc87d9",
   "metadata": {
    "hidden": true
   },
   "source": [
    "* Learning Spark - Lightning-Fast Data Analytics, 2nd Ed. J. Damji, B. Wenig, T. Das, and D. Lee. O'Reilly, 2020\n",
    "* https://spark.apache.org/docs/latest\n",
    "* https://docs.python.org/3/\n",
    "\n",
    "\n",
    "* https://data.sfgov.org/Public-Safety/Fire-Department-Calls-for-Service/nuek-vuh3\n"
   ]
  },
  {
   "cell_type": "code",
   "execution_count": null,
   "id": "902b757e",
   "metadata": {
    "hidden": true
   },
   "outputs": [],
   "source": []
  }
 ],
 "metadata": {
  "kernelspec": {
   "display_name": "pyspark_env",
   "language": "python",
   "name": "pyspark_env"
  },
  "language_info": {
   "codemirror_mode": {
    "name": "ipython",
    "version": 3
   },
   "file_extension": ".py",
   "mimetype": "text/x-python",
   "name": "python",
   "nbconvert_exporter": "python",
   "pygments_lexer": "ipython3",
   "version": "3.12.1"
  },
  "toc": {
   "base_numbering": 1,
   "nav_menu": {},
   "number_sections": true,
   "sideBar": true,
   "skip_h1_title": false,
   "title_cell": "Table of Contents",
   "title_sidebar": "Contents",
   "toc_cell": false,
   "toc_position": {},
   "toc_section_display": true,
   "toc_window_display": true
  }
 },
 "nbformat": 4,
 "nbformat_minor": 5
}
